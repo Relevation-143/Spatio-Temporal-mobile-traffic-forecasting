{
 "cells": [
  {
   "cell_type": "markdown",
   "metadata": {},
   "source": [
    "## Milano grid"
   ]
  },
  {
   "cell_type": "code",
   "execution_count": 20,
   "metadata": {},
   "outputs": [],
   "source": [
    "import json\n",
    "from pprint import pprint\n",
    "import numpy as np\n",
    "import pandas as pd"
   ]
  },
  {
   "cell_type": "code",
   "execution_count": null,
   "metadata": {},
   "outputs": [],
   "source": [
    "milano_grid_path = \"data/milano-grid.geojson\"\n",
    "\n",
    "with open(milano_grid_path) as f:\n",
    "    grid_data = json.load(f)"
   ]
  },
  {
   "cell_type": "code",
   "execution_count": 10,
   "metadata": {},
   "outputs": [
    {
     "name": "stdout",
     "output_type": "stream",
     "text": [
      "10000\n",
      "{'geometry': {'coordinates': [[[9.0114910478323, 45.35880131440966],\n",
      "                               [9.014491488013135, 45.35880097314403],\n",
      "                               [9.0144909480813, 45.35668565341486],\n",
      "                               [9.011490619692509, 45.356685994655464],\n",
      "                               [9.0114910478323, 45.35880131440966]]],\n",
      "              'type': 'Polygon'},\n",
      " 'id': 0,\n",
      " 'properties': {'cellId': 1},\n",
      " 'type': 'Feature'}\n",
      "{'geometry': {'coordinates': [[[9.014491488013135, 45.35880097314403],\n",
      "                               [9.017491928134044, 45.358800553060284],\n",
      "                               [9.017491276410173, 45.35668523336193],\n",
      "                               [9.0144909480813, 45.35668565341486],\n",
      "                               [9.014491488013135, 45.35880097314403]]],\n",
      "              'type': 'Polygon'},\n",
      " 'id': 1,\n",
      " 'properties': {'cellId': 2},\n",
      " 'type': 'Feature'}\n"
     ]
    }
   ],
   "source": [
    "# pprint(grid_data)\n",
    "\n",
    "print(len(grid_data[\"features\"]))\n",
    "pprint(grid_data[\"features\"][0])\n",
    "pprint(grid_data[\"features\"][1])"
   ]
  },
  {
   "cell_type": "markdown",
   "metadata": {},
   "source": [
    "### Why are there 5 coordinates?"
   ]
  },
  {
   "cell_type": "code",
   "execution_count": 19,
   "metadata": {},
   "outputs": [
    {
     "name": "stdout",
     "output_type": "stream",
     "text": [
      "finished searching\n"
     ]
    }
   ],
   "source": [
    "for feature in grid_data[\"features\"]:\n",
    "    coordinates = feature[\"geometry\"][\"coordinates\"][0]\n",
    "    if coordinates[0] != coordinates[4]:\n",
    "        print(\"first and last coordinates are different\")\n",
    "        \n",
    "print(\"finished searching\")"
   ]
  },
  {
   "cell_type": "markdown",
   "metadata": {},
   "source": [
    "## Internet traffic"
   ]
  },
  {
   "cell_type": "code",
   "execution_count": 29,
   "metadata": {},
   "outputs": [],
   "source": [
    "internet_data_path = \"data/sms-call-internet-mi-2013-11-01.txt\"\n",
    "\n",
    "data = pd.read_csv(internet_data_path, delimiter=\"\\t\", nrows=100, header=None, \n",
    "            usecols=[0, 1, 7], names=[\"square_id\", \"time\", \"internet\"])\n"
   ]
  },
  {
   "cell_type": "code",
   "execution_count": 30,
   "metadata": {},
   "outputs": [
    {
     "data": {
      "text/html": [
       "<div>\n",
       "<style scoped>\n",
       "    .dataframe tbody tr th:only-of-type {\n",
       "        vertical-align: middle;\n",
       "    }\n",
       "\n",
       "    .dataframe tbody tr th {\n",
       "        vertical-align: top;\n",
       "    }\n",
       "\n",
       "    .dataframe thead th {\n",
       "        text-align: right;\n",
       "    }\n",
       "</style>\n",
       "<table border=\"1\" class=\"dataframe\">\n",
       "  <thead>\n",
       "    <tr style=\"text-align: right;\">\n",
       "      <th></th>\n",
       "      <th>square_id</th>\n",
       "      <th>time</th>\n",
       "      <th>internet</th>\n",
       "    </tr>\n",
       "  </thead>\n",
       "  <tbody>\n",
       "    <tr>\n",
       "      <th>0</th>\n",
       "      <td>1</td>\n",
       "      <td>1383260400000</td>\n",
       "      <td>NaN</td>\n",
       "    </tr>\n",
       "    <tr>\n",
       "      <th>1</th>\n",
       "      <td>1</td>\n",
       "      <td>1383260400000</td>\n",
       "      <td>11.028366</td>\n",
       "    </tr>\n",
       "    <tr>\n",
       "      <th>2</th>\n",
       "      <td>1</td>\n",
       "      <td>1383261000000</td>\n",
       "      <td>NaN</td>\n",
       "    </tr>\n",
       "    <tr>\n",
       "      <th>3</th>\n",
       "      <td>1</td>\n",
       "      <td>1383261000000</td>\n",
       "      <td>0.026137</td>\n",
       "    </tr>\n",
       "    <tr>\n",
       "      <th>4</th>\n",
       "      <td>1</td>\n",
       "      <td>1383261000000</td>\n",
       "      <td>11.100963</td>\n",
       "    </tr>\n",
       "    <tr>\n",
       "      <th>5</th>\n",
       "      <td>1</td>\n",
       "      <td>1383261600000</td>\n",
       "      <td>NaN</td>\n",
       "    </tr>\n",
       "    <tr>\n",
       "      <th>6</th>\n",
       "      <td>1</td>\n",
       "      <td>1383261600000</td>\n",
       "      <td>10.892771</td>\n",
       "    </tr>\n",
       "    <tr>\n",
       "      <th>7</th>\n",
       "      <td>1</td>\n",
       "      <td>1383262200000</td>\n",
       "      <td>NaN</td>\n",
       "    </tr>\n",
       "  </tbody>\n",
       "</table>\n",
       "</div>"
      ],
      "text/plain": [
       "   square_id           time   internet\n",
       "0          1  1383260400000        NaN\n",
       "1          1  1383260400000  11.028366\n",
       "2          1  1383261000000        NaN\n",
       "3          1  1383261000000   0.026137\n",
       "4          1  1383261000000  11.100963\n",
       "5          1  1383261600000        NaN\n",
       "6          1  1383261600000  10.892771\n",
       "7          1  1383262200000        NaN"
      ]
     },
     "execution_count": 30,
     "metadata": {},
     "output_type": "execute_result"
    }
   ],
   "source": [
    "data.head(n=8)"
   ]
  },
  {
   "cell_type": "code",
   "execution_count": 56,
   "metadata": {},
   "outputs": [
    {
     "name": "stdout",
     "output_type": "stream",
     "text": [
      "number of rows with no internet data: 40\n"
     ]
    },
    {
     "data": {
      "text/plain": [
       "60"
      ]
     },
     "execution_count": 56,
     "metadata": {},
     "output_type": "execute_result"
    }
   ],
   "source": [
    "print(\"number of rows with no internet data: {0}\".format(data.isna().internet.sum()))\n",
    "\n",
    "cleaned_data = data.dropna()"
   ]
  },
  {
   "cell_type": "code",
   "execution_count": null,
   "metadata": {},
   "outputs": [],
   "source": [
    "TODO: sumappint į 3D numpy array"
   ]
  }
 ],
 "metadata": {
  "kernelspec": {
   "display_name": "Python 3",
   "language": "python",
   "name": "python3"
  },
  "language_info": {
   "codemirror_mode": {
    "name": "ipython",
    "version": 3
   },
   "file_extension": ".py",
   "mimetype": "text/x-python",
   "name": "python",
   "nbconvert_exporter": "python",
   "pygments_lexer": "ipython3",
   "version": "3.5.6"
  }
 },
 "nbformat": 4,
 "nbformat_minor": 2
}
